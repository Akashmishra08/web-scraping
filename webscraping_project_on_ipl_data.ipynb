{
  "cells": [
    {
      "cell_type": "code",
      "execution_count": null,
      "metadata": {
        "id": "HzTT2lXznJRz"
      },
      "outputs": [],
      "source": [
        "# importing important libreries\n",
        "from selenium import webdriver\n",
        "from selenium.webdriver.chrome.service import Service\n",
        "import time\n",
        "import pandas as pd\n"
      ]
    },
    {
      "cell_type": "code",
      "execution_count": 4,
      "metadata": {
        "id": "qshNZs-fndjm"
      },
      "outputs": [],
      "source": [
        "import pandas as pd"
      ]
    },
    {
      "cell_type": "code",
      "execution_count": 5,
      "metadata": {},
      "outputs": [
        {
          "name": "stdout",
          "output_type": "stream",
          "text": [
            "2.1.4\n"
          ]
        }
      ],
      "source": [
        "# Version of pandas\n",
        "print(pd.__version__)"
      ]
    },
    {
      "cell_type": "code",
      "execution_count": null,
      "metadata": {
        "id": "frbiA3wwnJR-"
      },
      "outputs": [],
      "source": [
        "#create varriable for storing the data\n",
        "session, matchn, vanue, datet, winteam ,fteam, steam, link = [], [], [], [], [] ,[] , [], []\n",
        "#using loop for changing the sesssion(going for next website)\n",
        "for i in range(2008,2024):\n",
        "\n",
        "  # website link\n",
        "  url = f'https://www.iplt20.com/matches/results/{i}'\n",
        "\n",
        "  #Initialize webdriver (chrome)\n",
        "  driver = webdriver.Chrome()\n",
        "\n",
        "  #open website\n",
        "  driver.get(url)\n",
        "\n",
        "  #wait for open the website\n",
        "  time.sleep(5)\n",
        "\n",
        "  #finding data by xpath\n",
        "  lin = driver.find_elements(\"xpath\",\"//a[@ng-if='!womensmatches']\")\n",
        "  fiteam = driver.find_elements(\"xpath\",\"//div[@class='vn-shedTeam']//div[@class='vn-teamTitle']\")\n",
        "  seteam = driver.find_elements(\"xpath\",\"//div[@class='vn-shedTeam vn-team-2']//div[@class='vn-teamTitle']\")\n",
        "  witeam = driver.find_elements(\"xpath\",\"//div[@class='vn-ticketTitle ng-binding ng-scope']\")\n",
        "  daytim = driver.find_elements(\"xpath\",\"//div[@class='vn-matchDateTime ng-binding']\")\n",
        "  van = driver.find_elements(\"xpath\",\"//p[@class='ng-binding']\")\n",
        "  mnumber = driver.find_elements(\"xpath\",\"//span[@class='vn-matchOrder ng-binding ng-scope']\")\n",
        "\n",
        "  # Iterate over elements and append data to respective lists\n",
        "  for li,fi,se,wi,da,va,mn in zip(lin,fiteam,seteam,witeam,daytim,van,mnumber):\n",
        "    l = li.get_attribute('href')\n",
        "    link.append(l)\n",
        "    fteam.append(fi.text)\n",
        "    steam.append(se.text)\n",
        "    winteam.append(wi.text)\n",
        "    datet.append(da.text)\n",
        "    vanue.append(va.text)\n",
        "    matchn.append(mn.text)\n",
        "    session.append(i)\n",
        "\n",
        "  #wait for the append the data\n",
        "  time.sleep(3)\n",
        "\n",
        "  #close the website\n",
        "  driver.quit()\n"
      ]
    },
    {
      "cell_type": "code",
      "execution_count": null,
      "metadata": {
        "id": "ZfO4bd20nJSA"
      },
      "outputs": [],
      "source": [
        "#creating the dictionary with all the list in a vrriable(data)\n",
        "data = {'Session':session,'Match_Number':matchn,'Venue':vanue,'Date_and_Time':datet,'Winning_Team':winteam,'First_team':fteam,'Second_Team':steam,'Link':link}"
      ]
    },
    {
      "cell_type": "code",
      "execution_count": null,
      "metadata": {
        "id": "NvRVkkmenJSC",
        "outputId": "f68d08ea-1b5c-4fdb-f41a-7b8990cd5118"
      },
      "outputs": [
        {
          "data": {
            "text/html": [
              "<div>\n",
              "<style scoped>\n",
              "    .dataframe tbody tr th:only-of-type {\n",
              "        vertical-align: middle;\n",
              "    }\n",
              "\n",
              "    .dataframe tbody tr th {\n",
              "        vertical-align: top;\n",
              "    }\n",
              "\n",
              "    .dataframe thead th {\n",
              "        text-align: right;\n",
              "    }\n",
              "</style>\n",
              "<table border=\"1\" class=\"dataframe\">\n",
              "  <thead>\n",
              "    <tr style=\"text-align: right;\">\n",
              "      <th></th>\n",
              "      <th>Session</th>\n",
              "      <th>Match_Number</th>\n",
              "      <th>Venue</th>\n",
              "      <th>Date_and_Time</th>\n",
              "      <th>Winning_Team</th>\n",
              "      <th>First_team</th>\n",
              "      <th>Second_Team</th>\n",
              "      <th>Link</th>\n",
              "    </tr>\n",
              "  </thead>\n",
              "  <tbody>\n",
              "    <tr>\n",
              "      <th>0</th>\n",
              "      <td>2008</td>\n",
              "      <td>MATCH 59</td>\n",
              "      <td>DY Patil Stadium, NAVI MUMBAI</td>\n",
              "      <td>JUN, SUN 1 , 8:00 pm IST</td>\n",
              "      <td>RAJASTHAN ROYALS WON BY 3 WICKETS</td>\n",
              "      <td>CHENNAI SUPER KINGS\\n163/5\\n(20 OV)</td>\n",
              "      <td>RAJASTHAN ROYALS\\n164/7\\n(20 OV )</td>\n",
              "      <td>https://www.iplt20.com/match/2008/10058</td>\n",
              "    </tr>\n",
              "    <tr>\n",
              "      <th>1</th>\n",
              "      <td>2008</td>\n",
              "      <td>MATCH 58</td>\n",
              "      <td>Wankhede Stadium, Mumbai</td>\n",
              "      <td>MAY, SAT 31 , 8:00 pm IST</td>\n",
              "      <td>CHENNAI SUPER KINGS WON BY 9 WICKETS</td>\n",
              "      <td>CHENNAI SUPER KINGS\\n116/1\\n(14.5 OV)</td>\n",
              "      <td>PUNJAB KINGS\\n112/8\\n(20 OV )</td>\n",
              "      <td>https://www.iplt20.com/match/2008/10057</td>\n",
              "    </tr>\n",
              "    <tr>\n",
              "      <th>2</th>\n",
              "      <td>2008</td>\n",
              "      <td>MATCH 57</td>\n",
              "      <td>Wankhede Stadium, Mumbai</td>\n",
              "      <td>MAY, FRI 30 , 8:00 pm IST</td>\n",
              "      <td>RAJASTHAN ROYALS WON BY 105 RUNS</td>\n",
              "      <td>DELHI DAREDEVILS\\n87\\n(16.1 OV)</td>\n",
              "      <td>RAJASTHAN ROYALS\\n192/9\\n(20 OV )</td>\n",
              "      <td>https://www.iplt20.com/match/2008/10056</td>\n",
              "    </tr>\n",
              "    <tr>\n",
              "      <th>3</th>\n",
              "      <td>2008</td>\n",
              "      <td>MATCH 56</td>\n",
              "      <td>IS Bindra Stadium, Mohali</td>\n",
              "      <td>MAY, WED 28 , 8:00 pm IST</td>\n",
              "      <td>PUNJAB KINGS WON BY 41 RUNS</td>\n",
              "      <td>PUNJAB KINGS\\n221/3\\n(20 OV)</td>\n",
              "      <td>RAJASTHAN ROYALS\\n180/7\\n(20 OV )</td>\n",
              "      <td>https://www.iplt20.com/match/2008/10055</td>\n",
              "    </tr>\n",
              "    <tr>\n",
              "      <th>4</th>\n",
              "      <td>2008</td>\n",
              "      <td>MATCH 55</td>\n",
              "      <td>M. Chinnaswamy Stadium, Bengaluru</td>\n",
              "      <td>MAY, WED 28 , 4:00 pm IST</td>\n",
              "      <td>MUMBAI INDIANS WON BY 9 WICKETS</td>\n",
              "      <td>ROYAL CHALLENGERS BANGALORE\\n122/9\\n(18 OV)</td>\n",
              "      <td>MUMBAI INDIANS\\n126/1\\n(16 OV )</td>\n",
              "      <td>https://www.iplt20.com/match/2008/10054</td>\n",
              "    </tr>\n",
              "    <tr>\n",
              "      <th>...</th>\n",
              "      <td>...</td>\n",
              "      <td>...</td>\n",
              "      <td>...</td>\n",
              "      <td>...</td>\n",
              "      <td>...</td>\n",
              "      <td>...</td>\n",
              "      <td>...</td>\n",
              "      <td>...</td>\n",
              "    </tr>\n",
              "    <tr>\n",
              "      <th>1026</th>\n",
              "      <td>2023</td>\n",
              "      <td>MATCH 5</td>\n",
              "      <td>M Chinnaswamy Stadium, Bengaluru</td>\n",
              "      <td>APR, SUN 2 , 7:30 pm IST</td>\n",
              "      <td>ROYAL CHALLENGERS BANGALORE WON BY 8 WICKETS</td>\n",
              "      <td>ROYAL CHALLENGERS BANGALORE\\n172/2\\n(16.2 OV)</td>\n",
              "      <td>MUMBAI INDIANS\\n171/7\\n(20.0 OV )</td>\n",
              "      <td>https://www.iplt20.com/match/2023/860</td>\n",
              "    </tr>\n",
              "    <tr>\n",
              "      <th>1027</th>\n",
              "      <td>2023</td>\n",
              "      <td>MATCH 4</td>\n",
              "      <td>Rajiv Gandhi International Stadium, Hyderabad</td>\n",
              "      <td>APR, SUN 2 , 3:30 pm IST</td>\n",
              "      <td>RAJASTHAN ROYALS WON BY 72 RUNS</td>\n",
              "      <td>SUNRISERS HYDERABAD\\n131/8\\n(20.0 OV)</td>\n",
              "      <td>RAJASTHAN ROYALS\\n203/5\\n(20.0 OV )</td>\n",
              "      <td>https://www.iplt20.com/match/2023/859</td>\n",
              "    </tr>\n",
              "    <tr>\n",
              "      <th>1028</th>\n",
              "      <td>2023</td>\n",
              "      <td>MATCH 3</td>\n",
              "      <td>Bharat Ratna Shri Atal Bihari Vajpayee Ekana C...</td>\n",
              "      <td>APR, SAT 1 , 7:30 pm IST</td>\n",
              "      <td>LUCKNOW SUPER GIANTS WON BY 50 RUNS</td>\n",
              "      <td>LUCKNOW SUPER GIANTS\\n193/6\\n(20.0 OV)</td>\n",
              "      <td>DELHI CAPITALS\\n143/9\\n(20.0 OV )</td>\n",
              "      <td>https://www.iplt20.com/match/2023/858</td>\n",
              "    </tr>\n",
              "    <tr>\n",
              "      <th>1029</th>\n",
              "      <td>2023</td>\n",
              "      <td>MATCH 2</td>\n",
              "      <td>Punjab Cricket Association IS Bindra Stadium, ...</td>\n",
              "      <td>APR, SAT 1 , 3:30 pm IST</td>\n",
              "      <td>PUNJAB KINGS WON BY 7 RUNS (D/L METHOD)</td>\n",
              "      <td>PUNJAB KINGS\\n191/5\\n(20.0 OV)</td>\n",
              "      <td>KOLKATA KNIGHT RIDERS\\n146/7\\n(16.0 OV )</td>\n",
              "      <td>https://www.iplt20.com/match/2023/857</td>\n",
              "    </tr>\n",
              "    <tr>\n",
              "      <th>1030</th>\n",
              "      <td>2023</td>\n",
              "      <td>MATCH 1</td>\n",
              "      <td>Narendra Modi Stadium, Ahmedabad</td>\n",
              "      <td>MAR, FRI 31 , 7:30 pm IST</td>\n",
              "      <td>GUJARAT TITANS WON BY 5 WICKETS</td>\n",
              "      <td>GUJARAT TITANS\\n182/5\\n(19.2 OV)</td>\n",
              "      <td>CHENNAI SUPER KINGS\\n178/7\\n(20.0 OV )</td>\n",
              "      <td>https://www.iplt20.com/match/2023/856</td>\n",
              "    </tr>\n",
              "  </tbody>\n",
              "</table>\n",
              "<p>1031 rows × 8 columns</p>\n",
              "</div>"
            ],
            "text/plain": [
              "      Session Match_Number                                              Venue  \\\n",
              "0        2008     MATCH 59                      DY Patil Stadium, NAVI MUMBAI   \n",
              "1        2008     MATCH 58                           Wankhede Stadium, Mumbai   \n",
              "2        2008     MATCH 57                           Wankhede Stadium, Mumbai   \n",
              "3        2008     MATCH 56                          IS Bindra Stadium, Mohali   \n",
              "4        2008     MATCH 55                  M. Chinnaswamy Stadium, Bengaluru   \n",
              "...       ...          ...                                                ...   \n",
              "1026     2023      MATCH 5                   M Chinnaswamy Stadium, Bengaluru   \n",
              "1027     2023      MATCH 4      Rajiv Gandhi International Stadium, Hyderabad   \n",
              "1028     2023      MATCH 3  Bharat Ratna Shri Atal Bihari Vajpayee Ekana C...   \n",
              "1029     2023      MATCH 2  Punjab Cricket Association IS Bindra Stadium, ...   \n",
              "1030     2023      MATCH 1                   Narendra Modi Stadium, Ahmedabad   \n",
              "\n",
              "                  Date_and_Time                                  Winning_Team  \\\n",
              "0      JUN, SUN 1 , 8:00 pm IST             RAJASTHAN ROYALS WON BY 3 WICKETS   \n",
              "1     MAY, SAT 31 , 8:00 pm IST          CHENNAI SUPER KINGS WON BY 9 WICKETS   \n",
              "2     MAY, FRI 30 , 8:00 pm IST              RAJASTHAN ROYALS WON BY 105 RUNS   \n",
              "3     MAY, WED 28 , 8:00 pm IST                   PUNJAB KINGS WON BY 41 RUNS   \n",
              "4     MAY, WED 28 , 4:00 pm IST               MUMBAI INDIANS WON BY 9 WICKETS   \n",
              "...                         ...                                           ...   \n",
              "1026   APR, SUN 2 , 7:30 pm IST  ROYAL CHALLENGERS BANGALORE WON BY 8 WICKETS   \n",
              "1027   APR, SUN 2 , 3:30 pm IST               RAJASTHAN ROYALS WON BY 72 RUNS   \n",
              "1028   APR, SAT 1 , 7:30 pm IST           LUCKNOW SUPER GIANTS WON BY 50 RUNS   \n",
              "1029   APR, SAT 1 , 3:30 pm IST       PUNJAB KINGS WON BY 7 RUNS (D/L METHOD)   \n",
              "1030  MAR, FRI 31 , 7:30 pm IST               GUJARAT TITANS WON BY 5 WICKETS   \n",
              "\n",
              "                                         First_team  \\\n",
              "0               CHENNAI SUPER KINGS\\n163/5\\n(20 OV)   \n",
              "1             CHENNAI SUPER KINGS\\n116/1\\n(14.5 OV)   \n",
              "2                   DELHI DAREDEVILS\\n87\\n(16.1 OV)   \n",
              "3                      PUNJAB KINGS\\n221/3\\n(20 OV)   \n",
              "4       ROYAL CHALLENGERS BANGALORE\\n122/9\\n(18 OV)   \n",
              "...                                             ...   \n",
              "1026  ROYAL CHALLENGERS BANGALORE\\n172/2\\n(16.2 OV)   \n",
              "1027          SUNRISERS HYDERABAD\\n131/8\\n(20.0 OV)   \n",
              "1028         LUCKNOW SUPER GIANTS\\n193/6\\n(20.0 OV)   \n",
              "1029                 PUNJAB KINGS\\n191/5\\n(20.0 OV)   \n",
              "1030               GUJARAT TITANS\\n182/5\\n(19.2 OV)   \n",
              "\n",
              "                                   Second_Team  \\\n",
              "0            RAJASTHAN ROYALS\\n164/7\\n(20 OV )   \n",
              "1                PUNJAB KINGS\\n112/8\\n(20 OV )   \n",
              "2            RAJASTHAN ROYALS\\n192/9\\n(20 OV )   \n",
              "3            RAJASTHAN ROYALS\\n180/7\\n(20 OV )   \n",
              "4              MUMBAI INDIANS\\n126/1\\n(16 OV )   \n",
              "...                                        ...   \n",
              "1026         MUMBAI INDIANS\\n171/7\\n(20.0 OV )   \n",
              "1027       RAJASTHAN ROYALS\\n203/5\\n(20.0 OV )   \n",
              "1028         DELHI CAPITALS\\n143/9\\n(20.0 OV )   \n",
              "1029  KOLKATA KNIGHT RIDERS\\n146/7\\n(16.0 OV )   \n",
              "1030    CHENNAI SUPER KINGS\\n178/7\\n(20.0 OV )   \n",
              "\n",
              "                                         Link  \n",
              "0     https://www.iplt20.com/match/2008/10058  \n",
              "1     https://www.iplt20.com/match/2008/10057  \n",
              "2     https://www.iplt20.com/match/2008/10056  \n",
              "3     https://www.iplt20.com/match/2008/10055  \n",
              "4     https://www.iplt20.com/match/2008/10054  \n",
              "...                                       ...  \n",
              "1026    https://www.iplt20.com/match/2023/860  \n",
              "1027    https://www.iplt20.com/match/2023/859  \n",
              "1028    https://www.iplt20.com/match/2023/858  \n",
              "1029    https://www.iplt20.com/match/2023/857  \n",
              "1030    https://www.iplt20.com/match/2023/856  \n",
              "\n",
              "[1031 rows x 8 columns]"
            ]
          },
          "execution_count": 100,
          "metadata": {},
          "output_type": "execute_result"
        }
      ],
      "source": [
        "# creating dataframe with the data\n",
        "dataframe = pd.DataFrame(data)\n",
        "dataframe"
      ]
    },
    {
      "cell_type": "code",
      "execution_count": null,
      "metadata": {
        "id": "eiG0QgjRnJSE"
      },
      "outputs": [],
      "source": [
        "#creating csv file with the dataframe\n",
        "dataframe.to_csv('webscraping_project_ipl_data.csv', index=False)"
      ]
    },
    {
      "cell_type": "code",
      "execution_count": null,
      "metadata": {
        "colab": {
          "base_uri": "https://localhost:8080/",
          "height": 981
        },
        "id": "k-QOncS8nJSF",
        "outputId": "f2aafd3c-e62f-4c5d-c7f7-91c2b90a6f73"
      },
      "outputs": [],
      "source": [
        "#open the csv\n",
        "df = pd.read_csv('webscraping_project_ipl_data.csv')\n",
        "df"
      ]
    },
    {
      "cell_type": "code",
      "execution_count": null,
      "metadata": {},
      "outputs": [],
      "source": [
        "df['Match_Number'] = df['Match_Number'].str.replace('MATCH ','')"
      ]
    },
    {
      "cell_type": "code",
      "execution_count": null,
      "metadata": {},
      "outputs": [],
      "source": [
        "# creating the csv file with the dataframe\n",
        "df.to_csv('project_ipl_data.csv', index=False)"
      ]
    }
  ],
  "metadata": {
    "colab": {
      "provenance": []
    },
    "kernelspec": {
      "display_name": "Python 3",
      "language": "python",
      "name": "python3"
    },
    "language_info": {
      "codemirror_mode": {
        "name": "ipython",
        "version": 3
      },
      "file_extension": ".py",
      "mimetype": "text/x-python",
      "name": "python",
      "nbconvert_exporter": "python",
      "pygments_lexer": "ipython3",
      "version": "3.12.1"
    }
  },
  "nbformat": 4,
  "nbformat_minor": 0
}
